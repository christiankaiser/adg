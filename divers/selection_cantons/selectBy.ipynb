{
 "cells": [
  {
   "cell_type": "markdown",
   "metadata": {},
   "source": [
    "# Sélection des zones Z05 avec **R**\n",
    "\n",
    "## 1) Répertoire de travail et installation du package *foreign*\n",
    "\n",
    "La table de correspondance entre identifiant des zones z05 et numéros de cantons est contenue dans le fichier **z05.dbf** (table d'attribut de la couche **z05.shp**). Pour lire ce fichier, il faut installer le package `foreign`, puis charger cette librairie à l'aide de la commande `library()`"
   ]
  },
  {
   "cell_type": "code",
   "execution_count": 1,
   "metadata": {},
   "outputs": [
    {
     "name": "stderr",
     "output_type": "stream",
     "text": [
      "Installing package into 'C:/Users/rbubloz/Documents/R/win-library/3.5'\n",
      "(as 'lib' is unspecified)\n"
     ]
    },
    {
     "name": "stdout",
     "output_type": "stream",
     "text": [
      "package 'foreign' successfully unpacked and MD5 sums checked\n",
      "\n",
      "The downloaded binary packages are in\n",
      "\tC:\\Users\\rbubloz\\AppData\\Local\\Temp\\RtmpqcW2f2\\downloaded_packages\n"
     ]
    }
   ],
   "source": [
    "install.packages('foreign', repos='http://cran.us.r-project.org')\n",
    "# Une fois la librairie installée, vous pouvez commenter cette cellule de code"
   ]
  },
  {
   "cell_type": "code",
   "execution_count": 2,
   "metadata": {},
   "outputs": [],
   "source": [
    "library(foreign)"
   ]
  },
  {
   "cell_type": "markdown",
   "metadata": {},
   "source": [
    "Assurez-vous que _z05.dbf_ et votre jeu de données en csv soient dans le répertoire de travail en listant les fichier de ce dernier"
   ]
  },
  {
   "cell_type": "code",
   "execution_count": 3,
   "metadata": {},
   "outputs": [
    {
     "data": {
      "text/html": [
       "<ol class=list-inline>\n",
       "\t<li>'img'</li>\n",
       "\t<li>'README.md'</li>\n",
       "\t<li>'selectBy.ipynb'</li>\n",
       "\t<li>'selectBy.R'</li>\n",
       "\t<li>'soceco.csv'</li>\n",
       "\t<li>'z05.dbf'</li>\n",
       "\t<li>'z05.shp'</li>\n",
       "\t<li>'z05.shx'</li>\n",
       "</ol>\n"
      ],
      "text/latex": [
       "\\begin{enumerate*}\n",
       "\\item 'img'\n",
       "\\item 'README.md'\n",
       "\\item 'selectBy.ipynb'\n",
       "\\item 'selectBy.R'\n",
       "\\item 'soceco.csv'\n",
       "\\item 'z05.dbf'\n",
       "\\item 'z05.shp'\n",
       "\\item 'z05.shx'\n",
       "\\end{enumerate*}\n"
      ],
      "text/markdown": [
       "1. 'img'\n",
       "2. 'README.md'\n",
       "3. 'selectBy.ipynb'\n",
       "4. 'selectBy.R'\n",
       "5. 'soceco.csv'\n",
       "6. 'z05.dbf'\n",
       "7. 'z05.shp'\n",
       "8. 'z05.shx'\n",
       "\n",
       "\n"
      ],
      "text/plain": [
       "[1] \"img\"            \"README.md\"      \"selectBy.ipynb\" \"selectBy.R\"    \n",
       "[5] \"soceco.csv\"     \"z05.dbf\"        \"z05.shp\"        \"z05.shx\"       "
      ]
     },
     "metadata": {},
     "output_type": "display_data"
    }
   ],
   "source": [
    "list.files(getwd())"
   ]
  },
  {
   "cell_type": "markdown",
   "metadata": {},
   "source": [
    "## 2) Chargement de la table d'attributs et sélection des zones\n",
    "\n",
    "La librairie *foreign* donne accès à la commande `read.dbf()`, qui permet de lire le fichier **z05.dbf**. Nous pouvons dès lors l'enregistrer dans une variable ici appelée `mapData`"
   ]
  },
  {
   "cell_type": "code",
   "execution_count": 4,
   "metadata": {},
   "outputs": [],
   "source": [
    "mapData = read.dbf(\"z05.dbf\")"
   ]
  },
  {
   "cell_type": "markdown",
   "metadata": {},
   "source": [
    "Il est possible de sélectionner les données d'un canton spécifique de la manière suivante (ici 22 : Vaud). Pour une liste complète des numéros de cantons, réfèrez-vous à la [liste de l'OFS](https://www.bfs.admin.ch/bfs/fr/home/statistiques/statistique-regions/portraits-regionaux-chiffres-cles/cantons.assetdetail.453863.html).\n",
    "\n",
    "Cette commande sélectionne l'attribut `Z05` des lignes de `mapData` où la variable `KT` vaut 22"
   ]
  },
  {
   "cell_type": "code",
   "execution_count": 5,
   "metadata": {},
   "outputs": [],
   "source": [
    "zVD = mapData$Z05[mapData$KT == 22]"
   ]
  },
  {
   "cell_type": "markdown",
   "metadata": {},
   "source": [
    "Nous pouvons afficher un aperçu des identifiants (n°) de zones Z05 appartenant au canton de Vaud à l'aide de la commande `head()`, ainsi que du nombre de (numéros de) zones avec la commande `length()`"
   ]
  },
  {
   "cell_type": "code",
   "execution_count": 6,
   "metadata": {},
   "outputs": [
    {
     "data": {
      "text/html": [
       "<ol class=list-inline>\n",
       "\t<li>5841</li>\n",
       "\t<li>5888</li>\n",
       "\t<li>5602</li>\n",
       "\t<li>5793</li>\n",
       "\t<li>5678</li>\n",
       "\t<li>5518</li>\n",
       "</ol>\n"
      ],
      "text/latex": [
       "\\begin{enumerate*}\n",
       "\\item 5841\n",
       "\\item 5888\n",
       "\\item 5602\n",
       "\\item 5793\n",
       "\\item 5678\n",
       "\\item 5518\n",
       "\\end{enumerate*}\n"
      ],
      "text/markdown": [
       "1. 5841\n",
       "2. 5888\n",
       "3. 5602\n",
       "4. 5793\n",
       "5. 5678\n",
       "6. 5518\n",
       "\n",
       "\n"
      ],
      "text/plain": [
       "[1] 5841 5888 5602 5793 5678 5518"
      ]
     },
     "metadata": {},
     "output_type": "display_data"
    },
    {
     "data": {
      "text/html": [
       "128"
      ],
      "text/latex": [
       "128"
      ],
      "text/markdown": [
       "128"
      ],
      "text/plain": [
       "[1] 128"
      ]
     },
     "metadata": {},
     "output_type": "display_data"
    }
   ],
   "source": [
    "head(zVD)\n",
    "length(zVD)"
   ]
  },
  {
   "cell_type": "markdown",
   "metadata": {},
   "source": [
    "Vous pouvez répèter cette opération avec les autres cantons qui vous intéressent:"
   ]
  },
  {
   "cell_type": "code",
   "execution_count": 7,
   "metadata": {},
   "outputs": [],
   "source": [
    "zVS = mapData$Z05[mapData$KT == 23]\n",
    "zTI = mapData$Z05[mapData$KT == 21]"
   ]
  },
  {
   "cell_type": "markdown",
   "metadata": {},
   "source": [
    "## 3) Chargement des données statistiques\n",
    "\n",
    "Dans cette partie, nous importons un jeu de données (ici celui relatif au domaine socio-économique) et nous effectuons un ajustement en renommant l'en-tête de la variable comportant l'information de l'identifiant des zones z05"
   ]
  },
  {
   "cell_type": "code",
   "execution_count": 8,
   "metadata": {},
   "outputs": [],
   "source": [
    "donnees = read.csv(\"soceco.csv\", header = T, sep = \";\", encoding = \"UTF-8\", stringsAsFactors = F)\n",
    "colnames(donnees)[1] = \"Z05\""
   ]
  },
  {
   "cell_type": "markdown",
   "metadata": {},
   "source": [
    "Voici un aperçu de ces données à l'aide de la commande `head()`"
   ]
  },
  {
   "cell_type": "code",
   "execution_count": 9,
   "metadata": {},
   "outputs": [
    {
     "data": {
      "text/html": [
       "<table>\n",
       "<thead><tr><th scope=col>Z05</th><th scope=col>NAME</th><th scope=col>PLUGER</th><th scope=col>PLUFRA</th><th scope=col>PLUITA</th><th scope=col>PLURUM</th><th scope=col>PLUENG</th><th scope=col>PLUOTH</th><th scope=col>PLU2GF</th><th scope=col>PLU2GI</th><th scope=col>...</th><th scope=col>ADD3FIN</th><th scope=col>ADD3RE</th><th scope=col>ADD3PRO</th><th scope=col>ADD3SUP</th><th scope=col>ADD3ADM</th><th scope=col>ADD3EDU</th><th scope=col>ADD3HC</th><th scope=col>ADD3SOC</th><th scope=col>ADD3REC</th><th scope=col>ADD3PER</th></tr></thead>\n",
       "<tbody>\n",
       "\t<tr><td>1.0                                  </td><td>Reppischtal                          </td><td>3526                                 </td><td>82                                   </td><td> 36                                  </td><td>0                                    </td><td> 68                                  </td><td>160                                  </td><td>24                                   </td><td> 47                                  </td><td>...                                  </td><td>464                                  </td><td>57                                   </td><td>403                                  </td><td> 75                                  </td><td>101                                  </td><td>149                                  </td><td>130                                  </td><td> 95                                  </td><td> 9                                   </td><td>104                                  </td></tr>\n",
       "\t<tr><td>2.1                                  </td><td>Affoltern am Albis Zentrum           </td><td>4475                                 </td><td>15                                   </td><td>180                                  </td><td>0                                    </td><td> 43                                  </td><td>730                                  </td><td>42                                   </td><td>238                                  </td><td>...                                  </td><td>302                                  </td><td>39                                   </td><td>297                                  </td><td>145                                  </td><td>117                                  </td><td>164                                  </td><td>288                                  </td><td>132                                  </td><td>39                                   </td><td>147                                  </td></tr>\n",
       "\t<tr><td>2.2                                  </td><td>Affoltern am Albis-Zwillikon Hedingen</td><td>4263                                 </td><td>41                                   </td><td>166                                  </td><td>0                                    </td><td>117                                  </td><td>228                                  </td><td>43                                   </td><td>168                                  </td><td>...                                  </td><td>320                                  </td><td>42                                   </td><td>281                                  </td><td>114                                  </td><td>201                                  </td><td>194                                  </td><td>326                                  </td><td>146                                  </td><td>18                                   </td><td> 91                                  </td></tr>\n",
       "\t<tr><td>3.0                                  </td><td>Bonstetten                           </td><td>3611                                 </td><td> 9                                   </td><td> 64                                  </td><td>7                                    </td><td> 40                                  </td><td>166                                  </td><td>63                                   </td><td> 80                                  </td><td>...                                  </td><td>409                                  </td><td>31                                   </td><td>324                                  </td><td> 80                                  </td><td>116                                  </td><td>187                                  </td><td>155                                  </td><td> 89                                  </td><td>16                                   </td><td> 57                                  </td></tr>\n",
       "\t<tr><td>4.0                                  </td><td>Oberalbis                            </td><td>3895                                 </td><td>24                                   </td><td> 16                                  </td><td>0                                    </td><td> 74                                  </td><td>108                                  </td><td>22                                   </td><td> 66                                  </td><td>...                                  </td><td>158                                  </td><td>23                                   </td><td>331                                  </td><td>111                                  </td><td>147                                  </td><td>282                                  </td><td>188                                  </td><td>134                                  </td><td>16                                   </td><td>103                                  </td></tr>\n",
       "\t<tr><td>9.0                                  </td><td>Mettmenstetten                       </td><td>4858                                 </td><td>41                                   </td><td>120                                  </td><td>8                                    </td><td> 79                                  </td><td>235                                  </td><td>45                                   </td><td> 45                                  </td><td>...                                  </td><td>327                                  </td><td> 8                                   </td><td>326                                  </td><td> 88                                  </td><td>197                                  </td><td>288                                  </td><td>260                                  </td><td>139                                  </td><td>49                                   </td><td> 64                                  </td></tr>\n",
       "</tbody>\n",
       "</table>\n"
      ],
      "text/latex": [
       "\\begin{tabular}{r|llllllllllllllllllllllllllllllllllllllllllllllllllllllllllllllllllllllllllllllllllllllllllllllllllllllllllllllllllllllllllllllllll}\n",
       " Z05 & NAME & PLUGER & PLUFRA & PLUITA & PLURUM & PLUENG & PLUOTH & PLU2GF & PLU2GI & ... & ADD3FIN & ADD3RE & ADD3PRO & ADD3SUP & ADD3ADM & ADD3EDU & ADD3HC & ADD3SOC & ADD3REC & ADD3PER\\\\\n",
       "\\hline\n",
       "\t 1.0                                   & Reppischtal                           & 3526                                  & 82                                    &  36                                   & 0                                     &  68                                   & 160                                   & 24                                    &  47                                   & ...                                   & 464                                   & 57                                    & 403                                   &  75                                   & 101                                   & 149                                   & 130                                   &  95                                   &  9                                    & 104                                  \\\\\n",
       "\t 2.1                                   & Affoltern am Albis Zentrum            & 4475                                  & 15                                    & 180                                   & 0                                     &  43                                   & 730                                   & 42                                    & 238                                   & ...                                   & 302                                   & 39                                    & 297                                   & 145                                   & 117                                   & 164                                   & 288                                   & 132                                   & 39                                    & 147                                  \\\\\n",
       "\t 2.2                                   & Affoltern am Albis-Zwillikon Hedingen & 4263                                  & 41                                    & 166                                   & 0                                     & 117                                   & 228                                   & 43                                    & 168                                   & ...                                   & 320                                   & 42                                    & 281                                   & 114                                   & 201                                   & 194                                   & 326                                   & 146                                   & 18                                    &  91                                  \\\\\n",
       "\t 3.0                                   & Bonstetten                            & 3611                                  &  9                                    &  64                                   & 7                                     &  40                                   & 166                                   & 63                                    &  80                                   & ...                                   & 409                                   & 31                                    & 324                                   &  80                                   & 116                                   & 187                                   & 155                                   &  89                                   & 16                                    &  57                                  \\\\\n",
       "\t 4.0                                   & Oberalbis                             & 3895                                  & 24                                    &  16                                   & 0                                     &  74                                   & 108                                   & 22                                    &  66                                   & ...                                   & 158                                   & 23                                    & 331                                   & 111                                   & 147                                   & 282                                   & 188                                   & 134                                   & 16                                    & 103                                  \\\\\n",
       "\t 9.0                                   & Mettmenstetten                        & 4858                                  & 41                                    & 120                                   & 8                                     &  79                                   & 235                                   & 45                                    &  45                                   & ...                                   & 327                                   &  8                                    & 326                                   &  88                                   & 197                                   & 288                                   & 260                                   & 139                                   & 49                                    &  64                                  \\\\\n",
       "\\end{tabular}\n"
      ],
      "text/markdown": [
       "\n",
       "Z05 | NAME | PLUGER | PLUFRA | PLUITA | PLURUM | PLUENG | PLUOTH | PLU2GF | PLU2GI | ... | ADD3FIN | ADD3RE | ADD3PRO | ADD3SUP | ADD3ADM | ADD3EDU | ADD3HC | ADD3SOC | ADD3REC | ADD3PER | \n",
       "|---|---|---|---|---|---|\n",
       "| 1.0                                   | Reppischtal                           | 3526                                  | 82                                    |  36                                   | 0                                     |  68                                   | 160                                   | 24                                    |  47                                   | ...                                   | 464                                   | 57                                    | 403                                   |  75                                   | 101                                   | 149                                   | 130                                   |  95                                   |  9                                    | 104                                   | \n",
       "| 2.1                                   | Affoltern am Albis Zentrum            | 4475                                  | 15                                    | 180                                   | 0                                     |  43                                   | 730                                   | 42                                    | 238                                   | ...                                   | 302                                   | 39                                    | 297                                   | 145                                   | 117                                   | 164                                   | 288                                   | 132                                   | 39                                    | 147                                   | \n",
       "| 2.2                                   | Affoltern am Albis-Zwillikon Hedingen | 4263                                  | 41                                    | 166                                   | 0                                     | 117                                   | 228                                   | 43                                    | 168                                   | ...                                   | 320                                   | 42                                    | 281                                   | 114                                   | 201                                   | 194                                   | 326                                   | 146                                   | 18                                    |  91                                   | \n",
       "| 3.0                                   | Bonstetten                            | 3611                                  |  9                                    |  64                                   | 7                                     |  40                                   | 166                                   | 63                                    |  80                                   | ...                                   | 409                                   | 31                                    | 324                                   |  80                                   | 116                                   | 187                                   | 155                                   |  89                                   | 16                                    |  57                                   | \n",
       "| 4.0                                   | Oberalbis                             | 3895                                  | 24                                    |  16                                   | 0                                     |  74                                   | 108                                   | 22                                    |  66                                   | ...                                   | 158                                   | 23                                    | 331                                   | 111                                   | 147                                   | 282                                   | 188                                   | 134                                   | 16                                    | 103                                   | \n",
       "| 9.0                                   | Mettmenstetten                        | 4858                                  | 41                                    | 120                                   | 8                                     |  79                                   | 235                                   | 45                                    |  45                                   | ...                                   | 327                                   |  8                                    | 326                                   |  88                                   | 197                                   | 288                                   | 260                                   | 139                                   | 49                                    |  64                                   | \n",
       "\n",
       "\n"
      ],
      "text/plain": [
       "  Z05 NAME                                  PLUGER PLUFRA PLUITA PLURUM PLUENG\n",
       "1 1.0 Reppischtal                           3526   82      36    0       68   \n",
       "2 2.1 Affoltern am Albis Zentrum            4475   15     180    0       43   \n",
       "3 2.2 Affoltern am Albis-Zwillikon Hedingen 4263   41     166    0      117   \n",
       "4 3.0 Bonstetten                            3611    9      64    7       40   \n",
       "5 4.0 Oberalbis                             3895   24      16    0       74   \n",
       "6 9.0 Mettmenstetten                        4858   41     120    8       79   \n",
       "  PLUOTH PLU2GF PLU2GI ... ADD3FIN ADD3RE ADD3PRO ADD3SUP ADD3ADM ADD3EDU\n",
       "1 160    24      47    ... 464     57     403      75     101     149    \n",
       "2 730    42     238    ... 302     39     297     145     117     164    \n",
       "3 228    43     168    ... 320     42     281     114     201     194    \n",
       "4 166    63      80    ... 409     31     324      80     116     187    \n",
       "5 108    22      66    ... 158     23     331     111     147     282    \n",
       "6 235    45      45    ... 327      8     326      88     197     288    \n",
       "  ADD3HC ADD3SOC ADD3REC ADD3PER\n",
       "1 130     95      9      104    \n",
       "2 288    132     39      147    \n",
       "3 326    146     18       91    \n",
       "4 155     89     16       57    \n",
       "5 188    134     16      103    \n",
       "6 260    139     49       64    "
      ]
     },
     "metadata": {},
     "output_type": "display_data"
    }
   ],
   "source": [
    "head(donnees)"
   ]
  },
  {
   "cell_type": "markdown",
   "metadata": {},
   "source": [
    "## 4) Correspondance entre les zones Z05 et les données brutes avec `match()`\n",
    "\n",
    "La commande `match()` permet d'identifier les numéros des lignes du jeu de données (`donnees`) dont la colonne z05 (`$z05`) \"match\" les identifiants des zones z05 du canton de Vaud (`zVD`). Ces numéros de lignes sont enregistrés dans la variable `rowDataVD`. La commande `length()` permet de vérifier le nombre de *matchs*, qui doit être égal au nombre de zones z05 du canton."
   ]
  },
  {
   "cell_type": "code",
   "execution_count": 10,
   "metadata": {},
   "outputs": [
    {
     "data": {
      "text/html": [
       "128"
      ],
      "text/latex": [
       "128"
      ],
      "text/markdown": [
       "128"
      ],
      "text/plain": [
       "[1] 128"
      ]
     },
     "metadata": {},
     "output_type": "display_data"
    },
    {
     "data": {
      "text/html": [
       "52"
      ],
      "text/latex": [
       "52"
      ],
      "text/markdown": [
       "52"
      ],
      "text/plain": [
       "[1] 52"
      ]
     },
     "metadata": {},
     "output_type": "display_data"
    },
    {
     "data": {
      "text/html": [
       "59"
      ],
      "text/latex": [
       "59"
      ],
      "text/markdown": [
       "59"
      ],
      "text/plain": [
       "[1] 59"
      ]
     },
     "metadata": {},
     "output_type": "display_data"
    }
   ],
   "source": [
    "rowDataVD = match(zVD, donnees$Z05)\n",
    "rowDataVS = match(zVS, donnees$Z05)\n",
    "rowDataTI = match(zTI, donnees$Z05)\n",
    "\n",
    "length(rowDataVD)\n",
    "length(rowDataVS)\n",
    "length(rowDataTI)"
   ]
  },
  {
   "cell_type": "markdown",
   "metadata": {},
   "source": [
    "## 5) Extraction des données de la région\n",
    "\n",
    "#### Extraction, sélection, subset\n",
    "Pour extraire les données du canton de Vaud, nous les enregistrons dans une nouvelle variable appelée `donneesVD`, constitutée sur la base d'une sélections des lignes (celles de `rowData`) du jeu de `donnees`.\n",
    "\n",
    "Pour rappel, la commande `nomDataframe[ligne(s), colonne(s)]` permet de sélectionner certaines lignes et colonnes d'un dataframe. N'hésitez pas à modifier et essayer ces exemples: \n",
    "- `donnees[1, 1]` sélectionne la valeur qui se trouve à la première ligne, première colonne\n",
    "- `donnees[ , 2]` sélectionne la deuxième colonne (de toutes les lignes)\n",
    "- `donnees[ , 'NAME']` sélectionne toutes les valeurs de la colonne 'NAME' (équivalente à la commande ci-dessus, dans ce cas)\n",
    "- `donnees[1:10, ]` sélectionne les lignes 1 à 10\n",
    "- `donnees[c(1:10, 20:30), 1:2]` sélectionne les lignes 1 à 10 ainsi que 20 à 30 et les colonnes 1 à 2\n",
    "- `donnees[donnees$NAME == 'Bourg-en-Lavaux', ]` sélectionne la ligne (et toutes les colonnes) où l'attribut `NAME` est _Bourg-en-Lavaux_\n",
    "- `donnees[donnees$PLUENG > 500, c('Z05', 'NAME')]` sélectionne le n° Z05 et le nom des lignes dont l'attribut `PLUENG` est supérieur à 500, c.-à-d. le numéro et nom des zones avec plus de 500 personnes dont la langue est uniquement l'anglais\n",
    "- `donnees[1:6, ]` est équivalente à `head(donnees)`\n",
    "\n",
    "Comme notre variable `rowDataVD` contient justement les numéros des lignes de `donnees` où sont situées les Z05 vaudoises, la commande suivante sélectionne ces lignes depuis `donnees` (avec toutes les colonnes) et les enregistre dans une nouvelle variable `donneesVD`.\n"
   ]
  },
  {
   "cell_type": "code",
   "execution_count": 11,
   "metadata": {},
   "outputs": [],
   "source": [
    "donneesVD = donnees[rowDataVD, ]"
   ]
  },
  {
   "cell_type": "markdown",
   "metadata": {},
   "source": [
    "On peut obtenir un aperçu du jeu de données vaudois à l'aide de `head()`"
   ]
  },
  {
   "cell_type": "code",
   "execution_count": 12,
   "metadata": {
    "scrolled": true
   },
   "outputs": [
    {
     "data": {
      "text/html": [
       "<table>\n",
       "<thead><tr><th></th><th scope=col>Z05</th><th scope=col>NAME</th><th scope=col>PLUGER</th><th scope=col>PLUFRA</th><th scope=col>PLUITA</th><th scope=col>PLURUM</th><th scope=col>PLUENG</th><th scope=col>PLUOTH</th><th scope=col>PLU2GF</th><th scope=col>PLU2GI</th><th scope=col>...</th><th scope=col>ADD3FIN</th><th scope=col>ADD3RE</th><th scope=col>ADD3PRO</th><th scope=col>ADD3SUP</th><th scope=col>ADD3ADM</th><th scope=col>ADD3EDU</th><th scope=col>ADD3HC</th><th scope=col>ADD3SOC</th><th scope=col>ADD3REC</th><th scope=col>ADD3PER</th></tr></thead>\n",
       "<tbody>\n",
       "\t<tr><th scope=row>1164</th><td>5841                   </td><td>Enhaut                 </td><td>187                    </td><td>2611                   </td><td>17                     </td><td>0                      </td><td>126                    </td><td>283                    </td><td>172                    </td><td>0                      </td><td>...                    </td><td> 59                    </td><td>48                     </td><td>123                    </td><td> 83                    </td><td> 95                    </td><td>102                    </td><td>168                    </td><td> 70                    </td><td>25                     </td><td> 47                    </td></tr>\n",
       "\t<tr><th scope=row>1176</th><td>5888                   </td><td>Saint-Légier-La Chiésaz</td><td>170                    </td><td>2701                   </td><td>41                     </td><td>0                      </td><td>240                    </td><td>200                    </td><td>210                    </td><td>0                      </td><td>...                    </td><td>211                    </td><td>23                     </td><td>311                    </td><td> 98                    </td><td>117                    </td><td>188                    </td><td>205                    </td><td>129                    </td><td>28                     </td><td> 72                    </td></tr>\n",
       "\t<tr><th scope=row>1121</th><td>5602                   </td><td>Bourg-en-Lavaux        </td><td>145                    </td><td>2896                   </td><td>36                     </td><td>0                      </td><td> 97                    </td><td>197                    </td><td>198                    </td><td>0                      </td><td>...                    </td><td>164                    </td><td>36                     </td><td>258                    </td><td> 85                    </td><td> 90                    </td><td>164                    </td><td>234                    </td><td>103                    </td><td>36                     </td><td> 88                    </td></tr>\n",
       "\t<tr><th scope=row>1160</th><td>5793                   </td><td>Oron                   </td><td> 38                    </td><td>3267                   </td><td>16                     </td><td>0                      </td><td> 31                    </td><td>232                    </td><td>155                    </td><td>0                      </td><td>...                    </td><td> 91                    </td><td>35                     </td><td>161                    </td><td>107                    </td><td>187                    </td><td>150                    </td><td>215                    </td><td>165                    </td><td>46                     </td><td> 86                    </td></tr>\n",
       "\t<tr><th scope=row>1140</th><td>5678                   </td><td>Moudon                 </td><td> 43                    </td><td>2214                   </td><td>33                     </td><td>0                      </td><td>  8                    </td><td>661                    </td><td> 77                    </td><td>0                      </td><td>...                    </td><td> 67                    </td><td>17                     </td><td>118                    </td><td> 94                    </td><td> 95                    </td><td> 83                    </td><td>130                    </td><td>143                    </td><td>20                     </td><td> 48                    </td></tr>\n",
       "\t<tr><th scope=row>1077</th><td>5518                   </td><td>Echallens              </td><td> 42                    </td><td>3320                   </td><td>45                     </td><td>0                      </td><td> 16                    </td><td>327                    </td><td>113                    </td><td>0                      </td><td>...                    </td><td>149                    </td><td>39                     </td><td>174                    </td><td>112                    </td><td>192                    </td><td>113                    </td><td>181                    </td><td>183                    </td><td>34                     </td><td>109                    </td></tr>\n",
       "</tbody>\n",
       "</table>\n"
      ],
      "text/latex": [
       "\\begin{tabular}{r|llllllllllllllllllllllllllllllllllllllllllllllllllllllllllllllllllllllllllllllllllllllllllllllllllllllllllllllllllllllllllllllllll}\n",
       "  & Z05 & NAME & PLUGER & PLUFRA & PLUITA & PLURUM & PLUENG & PLUOTH & PLU2GF & PLU2GI & ... & ADD3FIN & ADD3RE & ADD3PRO & ADD3SUP & ADD3ADM & ADD3EDU & ADD3HC & ADD3SOC & ADD3REC & ADD3PER\\\\\n",
       "\\hline\n",
       "\t1164 & 5841                    & Enhaut                  & 187                     & 2611                    & 17                      & 0                       & 126                     & 283                     & 172                     & 0                       & ...                     &  59                     & 48                      & 123                     &  83                     &  95                     & 102                     & 168                     &  70                     & 25                      &  47                    \\\\\n",
       "\t1176 & 5888                    & Saint-Légier-La Chiésaz & 170                     & 2701                    & 41                      & 0                       & 240                     & 200                     & 210                     & 0                       & ...                     & 211                     & 23                      & 311                     &  98                     & 117                     & 188                     & 205                     & 129                     & 28                      &  72                    \\\\\n",
       "\t1121 & 5602                    & Bourg-en-Lavaux         & 145                     & 2896                    & 36                      & 0                       &  97                     & 197                     & 198                     & 0                       & ...                     & 164                     & 36                      & 258                     &  85                     &  90                     & 164                     & 234                     & 103                     & 36                      &  88                    \\\\\n",
       "\t1160 & 5793                    & Oron                    &  38                     & 3267                    & 16                      & 0                       &  31                     & 232                     & 155                     & 0                       & ...                     &  91                     & 35                      & 161                     & 107                     & 187                     & 150                     & 215                     & 165                     & 46                      &  86                    \\\\\n",
       "\t1140 & 5678                    & Moudon                  &  43                     & 2214                    & 33                      & 0                       &   8                     & 661                     &  77                     & 0                       & ...                     &  67                     & 17                      & 118                     &  94                     &  95                     &  83                     & 130                     & 143                     & 20                      &  48                    \\\\\n",
       "\t1077 & 5518                    & Echallens               &  42                     & 3320                    & 45                      & 0                       &  16                     & 327                     & 113                     & 0                       & ...                     & 149                     & 39                      & 174                     & 112                     & 192                     & 113                     & 181                     & 183                     & 34                      & 109                    \\\\\n",
       "\\end{tabular}\n"
      ],
      "text/markdown": [
       "\n",
       "| <!--/--> | Z05 | NAME | PLUGER | PLUFRA | PLUITA | PLURUM | PLUENG | PLUOTH | PLU2GF | PLU2GI | ... | ADD3FIN | ADD3RE | ADD3PRO | ADD3SUP | ADD3ADM | ADD3EDU | ADD3HC | ADD3SOC | ADD3REC | ADD3PER | \n",
       "|---|---|---|---|---|---|\n",
       "| 1164 | 5841                    | Enhaut                  | 187                     | 2611                    | 17                      | 0                       | 126                     | 283                     | 172                     | 0                       | ...                     |  59                     | 48                      | 123                     |  83                     |  95                     | 102                     | 168                     |  70                     | 25                      |  47                     | \n",
       "| 1176 | 5888                    | Saint-Légier-La Chiésaz | 170                     | 2701                    | 41                      | 0                       | 240                     | 200                     | 210                     | 0                       | ...                     | 211                     | 23                      | 311                     |  98                     | 117                     | 188                     | 205                     | 129                     | 28                      |  72                     | \n",
       "| 1121 | 5602                    | Bourg-en-Lavaux         | 145                     | 2896                    | 36                      | 0                       |  97                     | 197                     | 198                     | 0                       | ...                     | 164                     | 36                      | 258                     |  85                     |  90                     | 164                     | 234                     | 103                     | 36                      |  88                     | \n",
       "| 1160 | 5793                    | Oron                    |  38                     | 3267                    | 16                      | 0                       |  31                     | 232                     | 155                     | 0                       | ...                     |  91                     | 35                      | 161                     | 107                     | 187                     | 150                     | 215                     | 165                     | 46                      |  86                     | \n",
       "| 1140 | 5678                    | Moudon                  |  43                     | 2214                    | 33                      | 0                       |   8                     | 661                     |  77                     | 0                       | ...                     |  67                     | 17                      | 118                     |  94                     |  95                     |  83                     | 130                     | 143                     | 20                      |  48                     | \n",
       "| 1077 | 5518                    | Echallens               |  42                     | 3320                    | 45                      | 0                       |  16                     | 327                     | 113                     | 0                       | ...                     | 149                     | 39                      | 174                     | 112                     | 192                     | 113                     | 181                     | 183                     | 34                      | 109                     | \n",
       "\n",
       "\n"
      ],
      "text/plain": [
       "     Z05  NAME                    PLUGER PLUFRA PLUITA PLURUM PLUENG PLUOTH\n",
       "1164 5841 Enhaut                  187    2611   17     0      126    283   \n",
       "1176 5888 Saint-Légier-La Chiésaz 170    2701   41     0      240    200   \n",
       "1121 5602 Bourg-en-Lavaux         145    2896   36     0       97    197   \n",
       "1160 5793 Oron                     38    3267   16     0       31    232   \n",
       "1140 5678 Moudon                   43    2214   33     0        8    661   \n",
       "1077 5518 Echallens                42    3320   45     0       16    327   \n",
       "     PLU2GF PLU2GI ... ADD3FIN ADD3RE ADD3PRO ADD3SUP ADD3ADM ADD3EDU ADD3HC\n",
       "1164 172    0      ...  59     48     123      83      95     102     168   \n",
       "1176 210    0      ... 211     23     311      98     117     188     205   \n",
       "1121 198    0      ... 164     36     258      85      90     164     234   \n",
       "1160 155    0      ...  91     35     161     107     187     150     215   \n",
       "1140  77    0      ...  67     17     118      94      95      83     130   \n",
       "1077 113    0      ... 149     39     174     112     192     113     181   \n",
       "     ADD3SOC ADD3REC ADD3PER\n",
       "1164  70     25       47    \n",
       "1176 129     28       72    \n",
       "1121 103     36       88    \n",
       "1160 165     46       86    \n",
       "1140 143     20       48    \n",
       "1077 183     34      109    "
      ]
     },
     "metadata": {},
     "output_type": "display_data"
    }
   ],
   "source": [
    "head(donneesVD)"
   ]
  },
  {
   "cell_type": "markdown",
   "metadata": {},
   "source": [
    "Ne pas oublier de faire de même pour les autres cantons"
   ]
  },
  {
   "cell_type": "code",
   "execution_count": 13,
   "metadata": {},
   "outputs": [],
   "source": [
    "donneesVS = donnees[rowDataVS, ]\n",
    "donneesTI = donnees[rowDataTI, ]"
   ]
  },
  {
   "cell_type": "markdown",
   "metadata": {},
   "source": [
    "#### Rajout de l'attribut lié au canton\n",
    "\n",
    "Afin de pouvoir déterminer et sélectionner rapidement différents cantons dans votre jeu de données final, il faut encore ajouter un attribut correspondant au nom du canton. Cela est fait en créant une nouvelle colonne pour chacun des dataframes cantonaux, que l'on remplit du même attribut.\n",
    "\n",
    "Ici, on rajoute une colonne `KT` au jeu de données `donneesVD`, colonne que l'on remplit de la même chaîne de caractères : `'VD'`"
   ]
  },
  {
   "cell_type": "code",
   "execution_count": 14,
   "metadata": {},
   "outputs": [],
   "source": [
    "donneesVD$KT = 'VD'"
   ]
  },
  {
   "cell_type": "markdown",
   "metadata": {},
   "source": [
    "On peut apercevoir le résultat avec `head()` (ici on ne veut que les deux premières colonnes (n° et nom), ainsi que la dernière colonne, retrouvée grâce à `ncol()` qui donne le nombre total de colonnes, qui peut donc être utilisée comme index de la dernière)."
   ]
  },
  {
   "cell_type": "code",
   "execution_count": 15,
   "metadata": {},
   "outputs": [
    {
     "data": {
      "text/html": [
       "<table>\n",
       "<thead><tr><th></th><th scope=col>Z05</th><th scope=col>NAME</th><th scope=col>KT</th></tr></thead>\n",
       "<tbody>\n",
       "\t<tr><th scope=row>1164</th><td>5841                   </td><td>Enhaut                 </td><td>VD                     </td></tr>\n",
       "\t<tr><th scope=row>1176</th><td>5888                   </td><td>Saint-Légier-La Chiésaz</td><td>VD                     </td></tr>\n",
       "\t<tr><th scope=row>1121</th><td>5602                   </td><td>Bourg-en-Lavaux        </td><td>VD                     </td></tr>\n",
       "\t<tr><th scope=row>1160</th><td>5793                   </td><td>Oron                   </td><td>VD                     </td></tr>\n",
       "\t<tr><th scope=row>1140</th><td>5678                   </td><td>Moudon                 </td><td>VD                     </td></tr>\n",
       "\t<tr><th scope=row>1077</th><td>5518                   </td><td>Echallens              </td><td>VD                     </td></tr>\n",
       "</tbody>\n",
       "</table>\n"
      ],
      "text/latex": [
       "\\begin{tabular}{r|lll}\n",
       "  & Z05 & NAME & KT\\\\\n",
       "\\hline\n",
       "\t1164 & 5841                    & Enhaut                  & VD                     \\\\\n",
       "\t1176 & 5888                    & Saint-Légier-La Chiésaz & VD                     \\\\\n",
       "\t1121 & 5602                    & Bourg-en-Lavaux         & VD                     \\\\\n",
       "\t1160 & 5793                    & Oron                    & VD                     \\\\\n",
       "\t1140 & 5678                    & Moudon                  & VD                     \\\\\n",
       "\t1077 & 5518                    & Echallens               & VD                     \\\\\n",
       "\\end{tabular}\n"
      ],
      "text/markdown": [
       "\n",
       "| <!--/--> | Z05 | NAME | KT | \n",
       "|---|---|---|---|---|---|\n",
       "| 1164 | 5841                    | Enhaut                  | VD                      | \n",
       "| 1176 | 5888                    | Saint-Légier-La Chiésaz | VD                      | \n",
       "| 1121 | 5602                    | Bourg-en-Lavaux         | VD                      | \n",
       "| 1160 | 5793                    | Oron                    | VD                      | \n",
       "| 1140 | 5678                    | Moudon                  | VD                      | \n",
       "| 1077 | 5518                    | Echallens               | VD                      | \n",
       "\n",
       "\n"
      ],
      "text/plain": [
       "     Z05  NAME                    KT\n",
       "1164 5841 Enhaut                  VD\n",
       "1176 5888 Saint-Légier-La Chiésaz VD\n",
       "1121 5602 Bourg-en-Lavaux         VD\n",
       "1160 5793 Oron                    VD\n",
       "1140 5678 Moudon                  VD\n",
       "1077 5518 Echallens               VD"
      ]
     },
     "metadata": {},
     "output_type": "display_data"
    }
   ],
   "source": [
    "head(donneesVD[ , c(1:2, ncol(donneesVD))])"
   ]
  },
  {
   "cell_type": "markdown",
   "metadata": {},
   "source": [
    "Ne pas oublier de faire de même pour les autres cantons"
   ]
  },
  {
   "cell_type": "code",
   "execution_count": 16,
   "metadata": {},
   "outputs": [],
   "source": [
    "donneesVS$KT = 'VS'\n",
    "donneesTI$KT = 'TI'"
   ]
  },
  {
   "cell_type": "markdown",
   "metadata": {},
   "source": [
    "# 6) Jointure, exportation en CSV et exemple de sélection par canton\n",
    "\n",
    "Vous avez maintenant autant de jeux de données que de cantons, avec pour chacun un attribut qui permet de connaître dans quel canton est située une zone. Il faut joindre le tout avant d'exporter en CSV. Cela se fait grâce à la fonction `rbind()`, qui joint les _rows_ (lignes) de plusieurs jeux de données (`cbind()` est l'équivalent pour joindre des colonnes).\n",
    "\n",
    "La commande `nrow()` vous permet de connaître le nombre de lignes, donc de z05 de votre région d'étude. La commande `unique()` permet d'obtenir les valeurs uniques de son argument, ici la colonne `KT` de `donnees_finales`, donc les abréviations des différents cantons"
   ]
  },
  {
   "cell_type": "code",
   "execution_count": 17,
   "metadata": {},
   "outputs": [
    {
     "data": {
      "text/html": [
       "239"
      ],
      "text/latex": [
       "239"
      ],
      "text/markdown": [
       "239"
      ],
      "text/plain": [
       "[1] 239"
      ]
     },
     "metadata": {},
     "output_type": "display_data"
    },
    {
     "data": {
      "text/html": [
       "<ol class=list-inline>\n",
       "\t<li>'VD'</li>\n",
       "\t<li>'VS'</li>\n",
       "\t<li>'TI'</li>\n",
       "</ol>\n"
      ],
      "text/latex": [
       "\\begin{enumerate*}\n",
       "\\item 'VD'\n",
       "\\item 'VS'\n",
       "\\item 'TI'\n",
       "\\end{enumerate*}\n"
      ],
      "text/markdown": [
       "1. 'VD'\n",
       "2. 'VS'\n",
       "3. 'TI'\n",
       "\n",
       "\n"
      ],
      "text/plain": [
       "[1] \"VD\" \"VS\" \"TI\""
      ]
     },
     "metadata": {},
     "output_type": "display_data"
    }
   ],
   "source": [
    "donnees_finales = rbind(donneesVD, donneesVS, donneesTI)\n",
    "nrow(donnees_finales)\n",
    "unique(donnees_finales$KT)"
   ]
  },
  {
   "cell_type": "markdown",
   "metadata": {},
   "source": [
    "Une fois le dataframe complet, il vous est possible de l'exporter à nouveau en csv à l'aide de la fonction `write.csv()` de la manière suivante (n'oubliez pas de changer le nom du fichier):"
   ]
  },
  {
   "cell_type": "code",
   "execution_count": 18,
   "metadata": {},
   "outputs": [],
   "source": [
    "write.csv(donnees_finales, file = \"NomDuFichier.csv\", fileEncoding = \"UTF-8\", row.names = F)"
   ]
  },
  {
   "cell_type": "markdown",
   "metadata": {},
   "source": [
    "Pour s'assurer que tout a bien fonctionné nous pouvons charger le fichier à l'aide de `read.csv()`"
   ]
  },
  {
   "cell_type": "code",
   "execution_count": 19,
   "metadata": {},
   "outputs": [
    {
     "data": {
      "text/html": [
       "<table>\n",
       "<thead><tr><th scope=col>Z05</th><th scope=col>NAME</th><th scope=col>PLUGER</th><th scope=col>PLUFRA</th><th scope=col>PLUITA</th><th scope=col>PLURUM</th><th scope=col>PLUENG</th><th scope=col>PLUOTH</th><th scope=col>PLU2GF</th><th scope=col>PLU2GI</th><th scope=col>...</th><th scope=col>ADD3RE</th><th scope=col>ADD3PRO</th><th scope=col>ADD3SUP</th><th scope=col>ADD3ADM</th><th scope=col>ADD3EDU</th><th scope=col>ADD3HC</th><th scope=col>ADD3SOC</th><th scope=col>ADD3REC</th><th scope=col>ADD3PER</th><th scope=col>KT</th></tr></thead>\n",
       "<tbody>\n",
       "\t<tr><td>5841                   </td><td>Enhaut                 </td><td>187                    </td><td>2611                   </td><td>17                     </td><td>0                      </td><td>126                    </td><td>283                    </td><td>172                    </td><td>0                      </td><td>...                    </td><td>48                     </td><td>123                    </td><td> 83                    </td><td> 95                    </td><td>102                    </td><td>168                    </td><td> 70                    </td><td>25                     </td><td> 47                    </td><td>VD                     </td></tr>\n",
       "\t<tr><td>5888                   </td><td>Saint-Légier-La Chiésaz</td><td>170                    </td><td>2701                   </td><td>41                     </td><td>0                      </td><td>240                    </td><td>200                    </td><td>210                    </td><td>0                      </td><td>...                    </td><td>23                     </td><td>311                    </td><td> 98                    </td><td>117                    </td><td>188                    </td><td>205                    </td><td>129                    </td><td>28                     </td><td> 72                    </td><td>VD                     </td></tr>\n",
       "\t<tr><td>5602                   </td><td>Bourg-en-Lavaux        </td><td>145                    </td><td>2896                   </td><td>36                     </td><td>0                      </td><td> 97                    </td><td>197                    </td><td>198                    </td><td>0                      </td><td>...                    </td><td>36                     </td><td>258                    </td><td> 85                    </td><td> 90                    </td><td>164                    </td><td>234                    </td><td>103                    </td><td>36                     </td><td> 88                    </td><td>VD                     </td></tr>\n",
       "\t<tr><td>5793                   </td><td>Oron                   </td><td> 38                    </td><td>3267                   </td><td>16                     </td><td>0                      </td><td> 31                    </td><td>232                    </td><td>155                    </td><td>0                      </td><td>...                    </td><td>35                     </td><td>161                    </td><td>107                    </td><td>187                    </td><td>150                    </td><td>215                    </td><td>165                    </td><td>46                     </td><td> 86                    </td><td>VD                     </td></tr>\n",
       "\t<tr><td>5678                   </td><td>Moudon                 </td><td> 43                    </td><td>2214                   </td><td>33                     </td><td>0                      </td><td>  8                    </td><td>661                    </td><td> 77                    </td><td>0                      </td><td>...                    </td><td>17                     </td><td>118                    </td><td> 94                    </td><td> 95                    </td><td> 83                    </td><td>130                    </td><td>143                    </td><td>20                     </td><td> 48                    </td><td>VD                     </td></tr>\n",
       "\t<tr><td>5518                   </td><td>Echallens              </td><td> 42                    </td><td>3320                   </td><td>45                     </td><td>0                      </td><td> 16                    </td><td>327                    </td><td>113                    </td><td>0                      </td><td>...                    </td><td>39                     </td><td>174                    </td><td>112                    </td><td>192                    </td><td>113                    </td><td>181                    </td><td>183                    </td><td>34                     </td><td>109                    </td><td>VD                     </td></tr>\n",
       "</tbody>\n",
       "</table>\n"
      ],
      "text/latex": [
       "\\begin{tabular}{r|lllllllllllllllllllllllllllllllllllllllllllllllllllllllllllllllllllllllllllllllllllllllllllllllllllllllllllllllllllllllllllllllllll}\n",
       " Z05 & NAME & PLUGER & PLUFRA & PLUITA & PLURUM & PLUENG & PLUOTH & PLU2GF & PLU2GI & ... & ADD3RE & ADD3PRO & ADD3SUP & ADD3ADM & ADD3EDU & ADD3HC & ADD3SOC & ADD3REC & ADD3PER & KT\\\\\n",
       "\\hline\n",
       "\t 5841                    & Enhaut                  & 187                     & 2611                    & 17                      & 0                       & 126                     & 283                     & 172                     & 0                       & ...                     & 48                      & 123                     &  83                     &  95                     & 102                     & 168                     &  70                     & 25                      &  47                     & VD                     \\\\\n",
       "\t 5888                    & Saint-Légier-La Chiésaz & 170                     & 2701                    & 41                      & 0                       & 240                     & 200                     & 210                     & 0                       & ...                     & 23                      & 311                     &  98                     & 117                     & 188                     & 205                     & 129                     & 28                      &  72                     & VD                     \\\\\n",
       "\t 5602                    & Bourg-en-Lavaux         & 145                     & 2896                    & 36                      & 0                       &  97                     & 197                     & 198                     & 0                       & ...                     & 36                      & 258                     &  85                     &  90                     & 164                     & 234                     & 103                     & 36                      &  88                     & VD                     \\\\\n",
       "\t 5793                    & Oron                    &  38                     & 3267                    & 16                      & 0                       &  31                     & 232                     & 155                     & 0                       & ...                     & 35                      & 161                     & 107                     & 187                     & 150                     & 215                     & 165                     & 46                      &  86                     & VD                     \\\\\n",
       "\t 5678                    & Moudon                  &  43                     & 2214                    & 33                      & 0                       &   8                     & 661                     &  77                     & 0                       & ...                     & 17                      & 118                     &  94                     &  95                     &  83                     & 130                     & 143                     & 20                      &  48                     & VD                     \\\\\n",
       "\t 5518                    & Echallens               &  42                     & 3320                    & 45                      & 0                       &  16                     & 327                     & 113                     & 0                       & ...                     & 39                      & 174                     & 112                     & 192                     & 113                     & 181                     & 183                     & 34                      & 109                     & VD                     \\\\\n",
       "\\end{tabular}\n"
      ],
      "text/markdown": [
       "\n",
       "Z05 | NAME | PLUGER | PLUFRA | PLUITA | PLURUM | PLUENG | PLUOTH | PLU2GF | PLU2GI | ... | ADD3RE | ADD3PRO | ADD3SUP | ADD3ADM | ADD3EDU | ADD3HC | ADD3SOC | ADD3REC | ADD3PER | KT | \n",
       "|---|---|---|---|---|---|\n",
       "| 5841                    | Enhaut                  | 187                     | 2611                    | 17                      | 0                       | 126                     | 283                     | 172                     | 0                       | ...                     | 48                      | 123                     |  83                     |  95                     | 102                     | 168                     |  70                     | 25                      |  47                     | VD                      | \n",
       "| 5888                    | Saint-Légier-La Chiésaz | 170                     | 2701                    | 41                      | 0                       | 240                     | 200                     | 210                     | 0                       | ...                     | 23                      | 311                     |  98                     | 117                     | 188                     | 205                     | 129                     | 28                      |  72                     | VD                      | \n",
       "| 5602                    | Bourg-en-Lavaux         | 145                     | 2896                    | 36                      | 0                       |  97                     | 197                     | 198                     | 0                       | ...                     | 36                      | 258                     |  85                     |  90                     | 164                     | 234                     | 103                     | 36                      |  88                     | VD                      | \n",
       "| 5793                    | Oron                    |  38                     | 3267                    | 16                      | 0                       |  31                     | 232                     | 155                     | 0                       | ...                     | 35                      | 161                     | 107                     | 187                     | 150                     | 215                     | 165                     | 46                      |  86                     | VD                      | \n",
       "| 5678                    | Moudon                  |  43                     | 2214                    | 33                      | 0                       |   8                     | 661                     |  77                     | 0                       | ...                     | 17                      | 118                     |  94                     |  95                     |  83                     | 130                     | 143                     | 20                      |  48                     | VD                      | \n",
       "| 5518                    | Echallens               |  42                     | 3320                    | 45                      | 0                       |  16                     | 327                     | 113                     | 0                       | ...                     | 39                      | 174                     | 112                     | 192                     | 113                     | 181                     | 183                     | 34                      | 109                     | VD                      | \n",
       "\n",
       "\n"
      ],
      "text/plain": [
       "  Z05  NAME                    PLUGER PLUFRA PLUITA PLURUM PLUENG PLUOTH PLU2GF\n",
       "1 5841 Enhaut                  187    2611   17     0      126    283    172   \n",
       "2 5888 Saint-Légier-La Chiésaz 170    2701   41     0      240    200    210   \n",
       "3 5602 Bourg-en-Lavaux         145    2896   36     0       97    197    198   \n",
       "4 5793 Oron                     38    3267   16     0       31    232    155   \n",
       "5 5678 Moudon                   43    2214   33     0        8    661     77   \n",
       "6 5518 Echallens                42    3320   45     0       16    327    113   \n",
       "  PLU2GI ... ADD3RE ADD3PRO ADD3SUP ADD3ADM ADD3EDU ADD3HC ADD3SOC ADD3REC\n",
       "1 0      ... 48     123      83      95     102     168     70     25     \n",
       "2 0      ... 23     311      98     117     188     205    129     28     \n",
       "3 0      ... 36     258      85      90     164     234    103     36     \n",
       "4 0      ... 35     161     107     187     150     215    165     46     \n",
       "5 0      ... 17     118      94      95      83     130    143     20     \n",
       "6 0      ... 39     174     112     192     113     181    183     34     \n",
       "  ADD3PER KT\n",
       "1  47     VD\n",
       "2  72     VD\n",
       "3  88     VD\n",
       "4  86     VD\n",
       "5  48     VD\n",
       "6 109     VD"
      ]
     },
     "metadata": {},
     "output_type": "display_data"
    }
   ],
   "source": [
    "d = read.csv(file=\"NomDuFichier.csv\", sep=\",\", encoding = 'UTF-8')\n",
    "head(d)"
   ]
  },
  {
   "cell_type": "markdown",
   "metadata": {},
   "source": [
    "Finalement, dans le cadre des exercices à venir, quand vous devrez travailler avec les données d'un ou plusieurs cantons, la sélection sera facilitée:"
   ]
  },
  {
   "cell_type": "code",
   "execution_count": 20,
   "metadata": {},
   "outputs": [],
   "source": [
    "d_VD = d[d$KT == 'VD', ] # Toutes les lignes dont KT est égal à Vaud (ainsi que toutes les colonnes)\n",
    "d_VSTI = d[d$KT %in% c('VS', 'TI'), ] # Toutes les lignes dont KT est VS ou TI (et toute les colonnes)"
   ]
  },
  {
   "cell_type": "markdown",
   "metadata": {},
   "source": [
    "Certaines fonctions permettent même l'usage du tilde (`~`) qui est l'équivalent de dire \"en fonction de\". Exemple ci-dessous avec des boxplots, en fonction des cantons, des détenteurs d'un Bachelor dans les Z05"
   ]
  },
  {
   "cell_type": "code",
   "execution_count": 21,
   "metadata": {},
   "outputs": [
    {
     "data": {
      "image/png": "[encoded data removed]",
      "text/plain": [
       "plot without title"
      ]
     },
     "metadata": {},
     "output_type": "display_data"
    }
   ],
   "source": [
    "boxplot(d$PFBAC ~ d$KT)"
   ]
  },
  {
   "cell_type": "markdown",
   "metadata": {},
   "source": [
    "Si vous voulez savoir quelle Z05 se détache particulièrement (en tout cas en valeur absolue !), vous pouvez afficher le n°, nom et nombre de bacheliers de la commune en question en recherchant quelle ligne a la valeur de bacheliers égale au maximum de cette colonne"
   ]
  },
  {
   "cell_type": "code",
   "execution_count": 22,
   "metadata": {},
   "outputs": [
    {
     "data": {
      "text/html": [
       "<table>\n",
       "<thead><tr><th></th><th scope=col>KT</th><th scope=col>Z05</th><th scope=col>NAME</th><th scope=col>PFBAC</th></tr></thead>\n",
       "<tbody>\n",
       "\t<tr><th scope=row>61</th><td>VD           </td><td>5712         </td><td>Coppet-Founex</td><td>609          </td></tr>\n",
       "</tbody>\n",
       "</table>\n"
      ],
      "text/latex": [
       "\\begin{tabular}{r|llll}\n",
       "  & KT & Z05 & NAME & PFBAC\\\\\n",
       "\\hline\n",
       "\t61 & VD            & 5712          & Coppet-Founex & 609          \\\\\n",
       "\\end{tabular}\n"
      ],
      "text/markdown": [
       "\n",
       "| <!--/--> | KT | Z05 | NAME | PFBAC | \n",
       "|---|\n",
       "| 61 | VD            | 5712          | Coppet-Founex | 609           | \n",
       "\n",
       "\n"
      ],
      "text/plain": [
       "   KT Z05  NAME          PFBAC\n",
       "61 VD 5712 Coppet-Founex 609  "
      ]
     },
     "metadata": {},
     "output_type": "display_data"
    }
   ],
   "source": [
    "d[d$PFBAC == max(d$PFBAC), c('KT','Z05', 'NAME', 'PFBAC')]"
   ]
  },
  {
   "cell_type": "markdown",
   "metadata": {},
   "source": [
    "Il y a très souvent plusieurs façons d'arriver à ses fins en code (de façon plus ou moins compliquée généralement), ci-dessous deux exemples pour afficher les maxima (en valeurs absolues) du Tessin et du Valais."
   ]
  },
  {
   "cell_type": "code",
   "execution_count": 23,
   "metadata": {},
   "outputs": [
    {
     "data": {
      "text/html": [
       "<table>\n",
       "<thead><tr><th></th><th scope=col>KT</th><th scope=col>Z05</th><th scope=col>NAME</th><th scope=col>PFBAC</th></tr></thead>\n",
       "<tbody>\n",
       "\t<tr><th scope=row>214</th><td>TI           </td><td>5236         </td><td>Collina d'Oro</td><td>439          </td></tr>\n",
       "</tbody>\n",
       "</table>\n"
      ],
      "text/latex": [
       "\\begin{tabular}{r|llll}\n",
       "  & KT & Z05 & NAME & PFBAC\\\\\n",
       "\\hline\n",
       "\t214 & TI            & 5236          & Collina d'Oro & 439          \\\\\n",
       "\\end{tabular}\n"
      ],
      "text/markdown": [
       "\n",
       "| <!--/--> | KT | Z05 | NAME | PFBAC | \n",
       "|---|\n",
       "| 214 | TI            | 5236          | Collina d'Oro | 439           | \n",
       "\n",
       "\n"
      ],
      "text/plain": [
       "    KT Z05  NAME          PFBAC\n",
       "214 TI 5236 Collina d'Oro 439  "
      ]
     },
     "metadata": {},
     "output_type": "display_data"
    }
   ],
   "source": [
    "d[(d$PFBAC == max(d[d$KT == 'TI', 'PFBAC']) & d$KT == 'TI'), c('KT','Z05', 'NAME', 'PFBAC')]"
   ]
  },
  {
   "cell_type": "code",
   "execution_count": 24,
   "metadata": {},
   "outputs": [
    {
     "data": {
      "text/html": [
       "<table>\n",
       "<thead><tr><th></th><th scope=col>KT</th><th scope=col>Z05</th><th scope=col>NAME</th><th scope=col>PFBAC</th></tr></thead>\n",
       "<tbody>\n",
       "\t<tr><th scope=row>159</th><td>VS    </td><td>6031  </td><td>Bagnes</td><td>409   </td></tr>\n",
       "</tbody>\n",
       "</table>\n"
      ],
      "text/latex": [
       "\\begin{tabular}{r|llll}\n",
       "  & KT & Z05 & NAME & PFBAC\\\\\n",
       "\\hline\n",
       "\t159 & VS     & 6031   & Bagnes & 409   \\\\\n",
       "\\end{tabular}\n"
      ],
      "text/markdown": [
       "\n",
       "| <!--/--> | KT | Z05 | NAME | PFBAC | \n",
       "|---|\n",
       "| 159 | VS     | 6031   | Bagnes | 409    | \n",
       "\n",
       "\n"
      ],
      "text/plain": [
       "    KT Z05  NAME   PFBAC\n",
       "159 VS 6031 Bagnes 409  "
      ]
     },
     "metadata": {},
     "output_type": "display_data"
    }
   ],
   "source": [
    "d[d$KT == 'VS', ][with(d[d$KT == 'VS', ], order(-PFBAC)), ][1,  c('KT','Z05', 'NAME', 'PFBAC') ]"
   ]
  },
  {
   "cell_type": "markdown",
   "metadata": {},
   "source": [
    "## Opt) Sélection de plusieurs cantons, sans avoir d'attribut relatif à ceux-ci\n",
    "\n",
    "Dans le cas où vous voulez travailler sur l'ensemble des z05 de plusieurs cantons, sans distinction entre ceux-ci, vous pouvez exporter le jeu de données de la façon suivante:"
   ]
  },
  {
   "cell_type": "code",
   "execution_count": 25,
   "metadata": {},
   "outputs": [],
   "source": [
    "zLatines = subset(mapData$Z05, mapData$KT %in% c(21:26))\n",
    "rowDataL = match(zLatines, donnees$Z05)\n",
    "donnees_latines = donnees[rowDataL, ]\n",
    "write.csv(donnees_latines, file = 'DonneesLatines.csv', fileEncoding = 'UTF-8', row.names = F)"
   ]
  }
 ],
 "metadata": {
  "kernelspec": {
   "display_name": "R",
   "language": "R",
   "name": "ir"
  },
  "language_info": {
   "codemirror_mode": "r",
   "file_extension": ".r",
   "mimetype": "text/x-r-source",
   "name": "R",
   "pygments_lexer": "r",
   "version": "3.5.1"
  }
 },
 "nbformat": 4,
 "nbformat_minor": 2
}
